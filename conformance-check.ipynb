{
 "cells": [
  {
   "cell_type": "code",
   "execution_count": 1,
   "metadata": {},
   "outputs": [],
   "source": [
    "import pm4py\n",
    "import os"
   ]
  },
  {
   "cell_type": "code",
   "execution_count": 2,
   "metadata": {
    "pycharm": {
     "name": "#%%\n"
    }
   },
   "outputs": [
    {
     "data": {
      "text/plain": "parsing log, completed traces ::   0%|          | 0/15182 [00:00<?, ?it/s]",
      "application/vnd.jupyter.widget-view+json": {
       "version_major": 2,
       "version_minor": 0,
       "model_id": "03172e0d99b54b9cb409c51c7cf53770"
      }
     },
     "metadata": {},
     "output_type": "display_data"
    }
   ],
   "source": [
    "log = pm4py.read_xes(os.path.join(\"data\", \"BPI_Challenge_2019-3-w-after.xes.gz\"))\n",
    "#log = pm4py.read_xes(os.path.join(\"data\", \"endoint-variation-new.xes.gz\"))"
   ]
  },
  {
   "cell_type": "code",
   "execution_count": 4,
   "metadata": {
    "pycharm": {
     "name": "#%%\n"
    }
   },
   "outputs": [],
   "source": [
    "bpmn_graph = pm4py.read_bpmn(\"./bpmn/BPMN_Celonis_as-is_final.bpmn\"\n",
    "                             )\n",
    "\n",
    "net, im, fm = pm4py.convert_to_petri_net(bpmn_graph)"
   ]
  },
  {
   "cell_type": "markdown",
   "metadata": {
    "pycharm": {
     "name": "#%% md\n"
    }
   },
   "source": [
    "# Token-based replay"
   ]
  },
  {
   "cell_type": "code",
   "execution_count": null,
   "metadata": {
    "pycharm": {
     "name": "#%%\n",
     "is_executing": true
    }
   },
   "outputs": [
    {
     "data": {
      "text/plain": "replaying log with TBR, completed variants ::   0%|          | 0/4228 [00:00<?, ?it/s]",
      "application/vnd.jupyter.widget-view+json": {
       "version_major": 2,
       "version_minor": 0,
       "model_id": "8daa1080d1df4fc9a6bbc33b4ed32002"
      }
     },
     "metadata": {},
     "output_type": "display_data"
    }
   ],
   "source": [
    "replayed_traces = pm4py.conformance_diagnostics_token_based_replay(log, net, im, fm)"
   ]
  },
  {
   "cell_type": "code",
   "execution_count": null,
   "outputs": [],
   "source": [
    "missing_tokens = 0\n",
    "consumed_tokens = 0\n",
    "remaining_tokens = 0\n",
    "produced_tokens = 0\n",
    "\n",
    "for trace in replayed_traces:\n",
    "    missing_tokens += trace[\"missing_tokens\"]\n",
    "    consumed_tokens += trace[\"consumed_tokens\"]\n",
    "    remaining_tokens += trace[\"remaining_tokens\"]\n",
    "    produced_tokens += trace[\"produced_tokens\"]\n",
    "\n",
    "first_eq = 0.5 * (1 - float(missing_tokens)/float(consumed_tokens))\n",
    "second_eq = 0.5 * (1 - float(remaining_tokens)/float(produced_tokens))\n",
    "\n",
    "fitness = first_eq + second_eq\n",
    "\n",
    "str((fitness, missing_tokens, consumed_tokens, remaining_tokens, produced_tokens))"
   ],
   "metadata": {
    "collapsed": false,
    "pycharm": {
     "name": "#%%\n"
    }
   }
  },
  {
   "cell_type": "markdown",
   "metadata": {
    "pycharm": {
     "name": "#%% md\n"
    }
   },
   "source": [
    "# Alignments"
   ]
  },
  {
   "cell_type": "code",
   "execution_count": 10,
   "metadata": {
    "pycharm": {
     "name": "#%%\n"
    }
   },
   "outputs": [
    {
     "data": {
      "text/plain": "aligning log, completed variants ::   0%|          | 0/9 [00:00<?, ?it/s]",
      "application/vnd.jupyter.widget-view+json": {
       "version_major": 2,
       "version_minor": 0,
       "model_id": "75a9cbce74da4031b95028c234fcbb54"
      }
     },
     "metadata": {},
     "output_type": "display_data"
    },
    {
     "name": "stdout",
     "output_type": "stream",
     "text": [
      "{'percFitTraces': 100.0, 'averageFitness': 1.0, 'percentage_of_fitting_traces': 100.0, 'average_trace_fitness': 1.0, 'log_fitness': 0.9998695850925249}\n"
     ]
    }
   ],
   "source": [
    "from pm4py.algo.conformance.alignments.petri_net import algorithm as alignments\n",
    "\n",
    "aligned_traces = alignments.apply_log(log, net, im, fm)\n",
    "\n",
    "from pm4py.algo.evaluation.replay_fitness import algorithm as replay_fitness\n",
    "log_fitness = replay_fitness.evaluate(aligned_traces, variant=replay_fitness.Variants.ALIGNMENT_BASED)\n",
    "\n",
    "print(log_fitness)"
   ]
  },
  {
   "cell_type": "markdown",
   "source": [
    "# Footprints"
   ],
   "metadata": {
    "collapsed": false,
    "pycharm": {
     "name": "#%% md\n"
    }
   }
  },
  {
   "cell_type": "code",
   "execution_count": 12,
   "outputs": [
    {
     "ename": "KeyboardInterrupt",
     "evalue": "",
     "output_type": "error",
     "traceback": [
      "\u001B[1;31m---------------------------------------------------------------------------\u001B[0m",
      "\u001B[1;31mKeyboardInterrupt\u001B[0m                         Traceback (most recent call last)",
      "Input \u001B[1;32mIn [12]\u001B[0m, in \u001B[0;36m<cell line: 4>\u001B[1;34m()\u001B[0m\n\u001B[0;32m      2\u001B[0m fp_log \u001B[38;5;241m=\u001B[39m footprints_discovery\u001B[38;5;241m.\u001B[39mapply(log, variant\u001B[38;5;241m=\u001B[39mfootprints_discovery\u001B[38;5;241m.\u001B[39mVariants\u001B[38;5;241m.\u001B[39mENTIRE_EVENT_LOG)\n\u001B[0;32m      3\u001B[0m fp_trace_by_trace \u001B[38;5;241m=\u001B[39m footprints_discovery\u001B[38;5;241m.\u001B[39mapply(log, variant\u001B[38;5;241m=\u001B[39mfootprints_discovery\u001B[38;5;241m.\u001B[39mVariants\u001B[38;5;241m.\u001B[39mTRACE_BY_TRACE)\n\u001B[1;32m----> 4\u001B[0m fp_net \u001B[38;5;241m=\u001B[39m \u001B[43mfootprints_discovery\u001B[49m\u001B[38;5;241;43m.\u001B[39;49m\u001B[43mapply\u001B[49m\u001B[43m(\u001B[49m\u001B[43mnet\u001B[49m\u001B[43m,\u001B[49m\u001B[43m \u001B[49m\u001B[43mim\u001B[49m\u001B[43m,\u001B[49m\u001B[43m \u001B[49m\u001B[43mfm\u001B[49m\u001B[43m)\u001B[49m\n",
      "File \u001B[1;32m~\\anaconda3\\envs\\process-mining\\lib\\site-packages\\pm4py\\algo\\discovery\\footprints\\algorithm.py:85\u001B[0m, in \u001B[0;36mapply\u001B[1;34m(variant, parameters, *args)\u001B[0m\n\u001B[0;32m     83\u001B[0m     \u001B[38;5;28;01mreturn\u001B[39;00m exec_utils\u001B[38;5;241m.\u001B[39mget_variant(variant)\u001B[38;5;241m.\u001B[39mapply(args[\u001B[38;5;241m0\u001B[39m], parameters\u001B[38;5;241m=\u001B[39mparameters)\n\u001B[0;32m     84\u001B[0m \u001B[38;5;28;01melif\u001B[39;00m variant \u001B[38;5;129;01min\u001B[39;00m [Variants\u001B[38;5;241m.\u001B[39mPETRI_REACH_GRAPH]:\n\u001B[1;32m---> 85\u001B[0m     \u001B[38;5;28;01mreturn\u001B[39;00m \u001B[43mexec_utils\u001B[49m\u001B[38;5;241;43m.\u001B[39;49m\u001B[43mget_variant\u001B[49m\u001B[43m(\u001B[49m\u001B[43mvariant\u001B[49m\u001B[43m)\u001B[49m\u001B[38;5;241;43m.\u001B[39;49m\u001B[43mapply\u001B[49m\u001B[43m(\u001B[49m\u001B[43margs\u001B[49m\u001B[43m[\u001B[49m\u001B[38;5;241;43m0\u001B[39;49m\u001B[43m]\u001B[49m\u001B[43m,\u001B[49m\u001B[43m \u001B[49m\u001B[43margs\u001B[49m\u001B[43m[\u001B[49m\u001B[38;5;241;43m1\u001B[39;49m\u001B[43m]\u001B[49m\u001B[43m,\u001B[49m\u001B[43m \u001B[49m\u001B[43mparameters\u001B[49m\u001B[38;5;241;43m=\u001B[39;49m\u001B[43mparameters\u001B[49m\u001B[43m)\u001B[49m\n",
      "File \u001B[1;32m~\\anaconda3\\envs\\process-mining\\lib\\site-packages\\pm4py\\algo\\discovery\\footprints\\petri\\variants\\reach_graph.py:62\u001B[0m, in \u001B[0;36mapply\u001B[1;34m(net, im, parameters)\u001B[0m\n\u001B[0;32m     59\u001B[0m \u001B[38;5;28;01mif\u001B[39;00m parameters \u001B[38;5;129;01mis\u001B[39;00m \u001B[38;5;28;01mNone\u001B[39;00m:\n\u001B[0;32m     60\u001B[0m     parameters \u001B[38;5;241m=\u001B[39m {}\n\u001B[1;32m---> 62\u001B[0m incoming_transitions, outgoing_transitions, eventually_enabled \u001B[38;5;241m=\u001B[39m \u001B[43mreachability_graph\u001B[49m\u001B[38;5;241;43m.\u001B[39;49m\u001B[43mmarking_flow_petri\u001B[49m\u001B[43m(\u001B[49m\u001B[43mnet\u001B[49m\u001B[43m,\u001B[49m\u001B[43m \u001B[49m\u001B[43mim\u001B[49m\u001B[43m,\u001B[49m\n\u001B[0;32m     63\u001B[0m \u001B[43m                                                                                                       \u001B[49m\u001B[43mreturn_eventually_enabled\u001B[49m\u001B[38;5;241;43m=\u001B[39;49m\u001B[38;5;28;43;01mTrue\u001B[39;49;00m\u001B[43m,\u001B[49m\n\u001B[0;32m     64\u001B[0m \u001B[43m                                                                                                       \u001B[49m\u001B[43mparameters\u001B[49m\u001B[38;5;241;43m=\u001B[39;49m\u001B[43mparameters\u001B[49m\u001B[43m)\u001B[49m\n\u001B[0;32m     66\u001B[0m sequence \u001B[38;5;241m=\u001B[39m \u001B[38;5;28mset\u001B[39m()\n\u001B[0;32m     68\u001B[0m s1 \u001B[38;5;241m=\u001B[39m \u001B[38;5;28mset\u001B[39m()\n",
      "File \u001B[1;32m~\\anaconda3\\envs\\process-mining\\lib\\site-packages\\pm4py\\objects\\petri_net\\utils\\reachability_graph.py:84\u001B[0m, in \u001B[0;36mmarking_flow_petri\u001B[1;34m(net, im, return_eventually_enabled, parameters)\u001B[0m\n\u001B[0;32m     82\u001B[0m enabled_transitions \u001B[38;5;241m=\u001B[39m semantics\u001B[38;5;241m.\u001B[39menabled_transitions(net, m)\n\u001B[0;32m     83\u001B[0m \u001B[38;5;28;01mif\u001B[39;00m return_eventually_enabled:\n\u001B[1;32m---> 84\u001B[0m     eventually_enabled[m] \u001B[38;5;241m=\u001B[39m \u001B[43malign_utils\u001B[49m\u001B[38;5;241;43m.\u001B[39;49m\u001B[43mget_visible_transitions_eventually_enabled_by_marking\u001B[49m\u001B[43m(\u001B[49m\u001B[43mnet\u001B[49m\u001B[43m,\u001B[49m\u001B[43m \u001B[49m\u001B[43mm\u001B[49m\u001B[43m)\u001B[49m\n\u001B[0;32m     85\u001B[0m outgoing_transitions[m] \u001B[38;5;241m=\u001B[39m {}\n\u001B[0;32m     86\u001B[0m \u001B[38;5;28;01mfor\u001B[39;00m t \u001B[38;5;129;01min\u001B[39;00m enabled_transitions:\n",
      "File \u001B[1;32m~\\anaconda3\\envs\\process-mining\\lib\\site-packages\\pm4py\\objects\\petri_net\\utils\\align_utils.py:457\u001B[0m, in \u001B[0;36mget_visible_transitions_eventually_enabled_by_marking\u001B[1;34m(net, marking)\u001B[0m\n\u001B[0;32m    455\u001B[0m                     all_enabled_transitions\u001B[38;5;241m.\u001B[39mappend(t2)\n\u001B[0;32m    456\u001B[0m                     all_enabled_transitions_marking_dictio[t2] \u001B[38;5;241m=\u001B[39m new_marking\n\u001B[1;32m--> 457\u001B[0m         visited_transitions\u001B[38;5;241m.\u001B[39madd(\u001B[38;5;28;43mrepr\u001B[39;49m\u001B[43m(\u001B[49m\u001B[43m[\u001B[49m\u001B[43mt\u001B[49m\u001B[43m,\u001B[49m\u001B[43m \u001B[49m\u001B[43mmarking_copy\u001B[49m\u001B[43m]\u001B[49m\u001B[43m)\u001B[49m)\n\u001B[0;32m    458\u001B[0m     i \u001B[38;5;241m=\u001B[39m i \u001B[38;5;241m+\u001B[39m \u001B[38;5;241m1\u001B[39m\n\u001B[0;32m    460\u001B[0m \u001B[38;5;28;01mreturn\u001B[39;00m visible_transitions\n",
      "File \u001B[1;32m~\\anaconda3\\envs\\process-mining\\lib\\site-packages\\pm4py\\objects\\petri_net\\obj.py:65\u001B[0m, in \u001B[0;36mMarking.__repr__\u001B[1;34m(self)\u001B[0m\n\u001B[0;32m     64\u001B[0m \u001B[38;5;28;01mdef\u001B[39;00m \u001B[38;5;21m__repr__\u001B[39m(\u001B[38;5;28mself\u001B[39m):\n\u001B[1;32m---> 65\u001B[0m     \u001B[38;5;28;01mreturn\u001B[39;00m \u001B[38;5;28;43mstr\u001B[39;49m\u001B[43m(\u001B[49m\u001B[43m[\u001B[49m\u001B[38;5;28;43mstr\u001B[39;49m\u001B[43m(\u001B[49m\u001B[43mp\u001B[49m\u001B[38;5;241;43m.\u001B[39;49m\u001B[43mname\u001B[49m\u001B[43m)\u001B[49m\u001B[43m \u001B[49m\u001B[38;5;241;43m+\u001B[39;49m\u001B[43m \u001B[49m\u001B[38;5;124;43m\"\u001B[39;49m\u001B[38;5;124;43m:\u001B[39;49m\u001B[38;5;124;43m\"\u001B[39;49m\u001B[43m \u001B[49m\u001B[38;5;241;43m+\u001B[39;49m\u001B[43m \u001B[49m\u001B[38;5;28;43mstr\u001B[39;49m\u001B[43m(\u001B[49m\u001B[38;5;28;43mself\u001B[39;49m\u001B[38;5;241;43m.\u001B[39;49m\u001B[43mget\u001B[49m\u001B[43m(\u001B[49m\u001B[43mp\u001B[49m\u001B[43m)\u001B[49m\u001B[43m)\u001B[49m\u001B[43m \u001B[49m\u001B[38;5;28;43;01mfor\u001B[39;49;00m\u001B[43m \u001B[49m\u001B[43mp\u001B[49m\u001B[43m \u001B[49m\u001B[38;5;129;43;01min\u001B[39;49;00m\u001B[43m \u001B[49m\u001B[38;5;28;43msorted\u001B[39;49m\u001B[43m(\u001B[49m\u001B[38;5;28;43mlist\u001B[39;49m\u001B[43m(\u001B[49m\u001B[38;5;28;43mself\u001B[39;49m\u001B[38;5;241;43m.\u001B[39;49m\u001B[43mkeys\u001B[49m\u001B[43m(\u001B[49m\u001B[43m)\u001B[49m\u001B[43m)\u001B[49m\u001B[43m,\u001B[49m\u001B[43m \u001B[49m\u001B[43mkey\u001B[49m\u001B[38;5;241;43m=\u001B[39;49m\u001B[38;5;28;43;01mlambda\u001B[39;49;00m\u001B[43m \u001B[49m\u001B[43mx\u001B[49m\u001B[43m:\u001B[49m\u001B[43m \u001B[49m\u001B[43mx\u001B[49m\u001B[38;5;241;43m.\u001B[39;49m\u001B[43mname\u001B[49m\u001B[43m)\u001B[49m\u001B[43m]\u001B[49m\u001B[43m)\u001B[49m\n",
      "\u001B[1;31mKeyboardInterrupt\u001B[0m: "
     ]
    }
   ],
   "source": [
    "from pm4py.algo.discovery.footprints import algorithm as footprints_discovery\n",
    "fp_log = footprints_discovery.apply(log, variant=footprints_discovery.Variants.ENTIRE_EVENT_LOG)\n",
    "fp_trace_by_trace = footprints_discovery.apply(log, variant=footprints_discovery.Variants.TRACE_BY_TRACE)\n",
    "fp_net = footprints_discovery.apply(net, im, fm)"
   ],
   "metadata": {
    "collapsed": false,
    "pycharm": {
     "name": "#%%\n"
    }
   }
  },
  {
   "cell_type": "code",
   "execution_count": null,
   "outputs": [],
   "source": [
    "from pm4py.visualization.footprints import visualizer as fp_visualizer\n",
    "\n",
    "gviz = fp_visualizer.apply(fp_net, parameters={fp_visualizer.Variants.SINGLE.value.Parameters.FORMAT: \"svg\"})\n",
    "fp_visualizer.view(gviz)"
   ],
   "metadata": {
    "collapsed": false,
    "pycharm": {
     "name": "#%%\n"
    }
   }
  },
  {
   "cell_type": "code",
   "execution_count": null,
   "outputs": [],
   "source": [
    "conf_fp = pm4py.conformance_diagnostics_footprints(fp_trace_by_trace, fp_net)"
   ],
   "metadata": {
    "collapsed": false,
    "pycharm": {
     "name": "#%%\n"
    }
   }
  },
  {
   "cell_type": "code",
   "execution_count": null,
   "outputs": [],
   "source": [
    "from pm4py.algo.conformance.footprints import algorithm as fp_conformance\n",
    "from pm4py.algo.conformance.footprints.util import evaluation\n",
    "\n",
    "conf_result = fp_conformance.apply(fp_log, fp_net, variant=fp_conformance.Variants.LOG_EXTENSIVE)\n",
    "\n",
    "fitness = evaluation.fp_fitness(fp_log, fp_net, conf_result)\n",
    "precision = evaluation.fp_precision(fp_log, fp_net)"
   ],
   "metadata": {
    "collapsed": false,
    "pycharm": {
     "name": "#%%\n"
    }
   }
  }
 ],
 "metadata": {
  "kernelspec": {
   "display_name": "Python 3 (ipykernel)",
   "language": "python",
   "name": "python3"
  },
  "language_info": {
   "codemirror_mode": {
    "name": "ipython",
    "version": 3
   },
   "file_extension": ".py",
   "mimetype": "text/x-python",
   "name": "python",
   "nbconvert_exporter": "python",
   "pygments_lexer": "ipython3",
   "version": "3.9.13"
  }
 },
 "nbformat": 4,
 "nbformat_minor": 1
}